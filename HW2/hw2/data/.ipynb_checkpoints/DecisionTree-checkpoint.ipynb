{
 "cells": [
  {
   "cell_type": "code",
   "execution_count": 1,
   "metadata": {},
   "outputs": [],
   "source": [
    "import math\n",
    "import pandas as pd\n",
    "import numpy as np\n",
    "import matplotlib.pyplot as plt"
   ]
  },
  {
   "cell_type": "code",
   "execution_count": 2,
   "metadata": {},
   "outputs": [],
   "source": [
    "class TreeNode:\n",
    "    def __init__(self,is_leaf,split):\n",
    "        self.is_leaf = is_leaf\n",
    "        self.split_vals = split\n",
    "        self.prediction_class = None\n",
    "        self.left = None\n",
    "        self.right = None\n",
    "        \n",
    "    '''\n",
    "    Used to display the decision tree using the current TreeNode object as the root\n",
    "    '''\n",
    "    def visualize(self):\n",
    "        return\n",
    "        \n",
    "        \n",
    "class DecTree:\n",
    "    \n",
    "    '''\n",
    "    Calculate the entropy of the given data. Assumes data is single column vector of output labels\n",
    "    '''\n",
    "    def entropy(self,data):\n",
    "        if (len(data)==0):\n",
    "            return 0\n",
    "        p1 = np.mean(data[:,-1],axis=0) # calculate the probability of label '1'\n",
    "        if (p1==0 or p1==1):\n",
    "            return 0 # since entropy is p*log2(p) having p=0,1 would result in 0 entropy\n",
    "        p2 = 1-p1\n",
    "        return -1*((p1*np.log2(p1))+(p2*np.log2(p2)))\n",
    "    \n",
    "    '''\n",
    "    \n",
    "    '''\n",
    "    def calc_split_entropy(self,data,split):\n",
    "        j,c = split\n",
    "        split1 = (data[:,int(j)]>=c).astype('float')\n",
    "        split2 = (data[:,int(j)]<c).astype('float')\n",
    "        p1 = split1.sum()/len(split1)\n",
    "        if (p1==0 or p1==1):\n",
    "            return 0\n",
    "        p2 = 1-p1\n",
    "        return -(p1*np.log2(p1)) -(p2*np.log2(p2))\n",
    "    \n",
    "    '''\n",
    "    Calculate the information gain of given data. Assumes data is single column vector of output labels\n",
    "    '''\n",
    "    def calc_infogain(self,data,split): \n",
    "        j,c = split\n",
    "        target = self.entropy(data)\n",
    "        split1 = data[data[:,int(j)]>=c]\n",
    "        split2 = data[data[:,int(j)]<c]\n",
    "        ent1 = self.entropy(split1)\n",
    "        ent2 = self.entropy(split2)\n",
    "        p1 = len(split1)/len(data)\n",
    "        p2 = 1-p1\n",
    "        split_info = (p1*ent1)+(p2*ent2)\n",
    "        return target - split_info\n",
    "    \n",
    "    '''\n",
    "    Calculates the information gain ratio\n",
    "    '''\n",
    "    def calc_gainratio(self,info_gain,split_ent):\n",
    "        return info_gain/split_ent\n",
    "    \n",
    "    '''\n",
    "    Calculates the candidate splits and returns them in the form (j,c)\n",
    "    '''\n",
    "    def get_splits(self,data):\n",
    "        splits = []\n",
    "        num_feats = data.shape[1]-1\n",
    "        for col in range(num_feats): # iterate over columns\n",
    "            data_sort = data[data[:,col].argsort()] # sort the matrix by the current column\n",
    "            splits.append((col,data_sort[0,col])) # first value will be lowest so add as split\n",
    "            for i in range(data_sort.shape[0]-1):\n",
    "                if (data_sort[i,col] != data_sort[i+1,col]): # check for other splits\n",
    "                    splits.append((col,data_sort[i+1,col]))\n",
    "        return np.array(splits)\n",
    "    \n",
    "    '''\n",
    "    Calculates the infogain, split entropy and resulting gain ratio of a given split\n",
    "    '''\n",
    "    def calc_splits(self,data,splits):\n",
    "        for split in splits:\n",
    "            infogain = self.calc_infogain(data,split) # calculate infogain from split\n",
    "            split_ent = self.calc_split_entropy(data,split) # calculate split entropy from split\n",
    "            if (split_ent > 0.0):\n",
    "                gainratio = self.calc_gainratio(infogain,split_ent)\n",
    "                print(\"X\"+str(int(split[0]))+\" >= \"+str(split[1]),\"Gain Ratio: \"+str(gainratio))\n",
    "            else:\n",
    "                print(\"X\"+str(int(split[0]))+\" >= \"+str(split[1]),\"Info Gain:\",infogain)\n",
    "                \n",
    "    '''\n",
    "    Calculates which split from all potential splits provided the largest infogain ratio\n",
    "    '''\n",
    "    def get_max_split(self,data,splits):\n",
    "        threshold = 0.00001\n",
    "        max_gain_ratio = 0.0\n",
    "        max_split = None\n",
    "        for split in splits:\n",
    "            j,c = split\n",
    "            if (data[data[:,int(j)]>=c].shape[0]==0):\n",
    "                continue\n",
    "            if (np.unique(data[:,-1]).shape[0]==1):\n",
    "                continue\n",
    "            infogain = self.calc_infogain(data,split) # calculate infogain from split\n",
    "            split_ent = self.calc_split_entropy(data,split) # calculate split entropy from split\n",
    "            if (split_ent > threshold):\n",
    "                gainratio = self.calc_gainratio(infogain,split_ent)\n",
    "                if (gainratio > max_gain_ratio):\n",
    "                    max_gain_ratio = gainratio\n",
    "                    max_split = split\n",
    "            else:\n",
    "                continue\n",
    "        return max_split\n",
    "    \n",
    "    def get_prediction_class(self,data):\n",
    "        return 0 if sum(data[:,-1]==0) > sum(data[:,-1]==1) else 1\n",
    "    \n",
    "    '''\n",
    "    Generates a decision tree by splitting upon the split yielding the largest gain. The root node is\n",
    "    returned.\n",
    "    '''\n",
    "    def make_subtree(self,data):\n",
    "        potential_splits = self.get_splits(data)\n",
    "        max_split = self.get_max_split(data,potential_splits)\n",
    "        if (max_split is None):\n",
    "            leaf = TreeNode(True,max_split)\n",
    "            leaf.prediction_class = self.get_prediction_class(data)\n",
    "            return leaf\n",
    "        node = TreeNode(False,max_split)\n",
    "        j,c = max_split\n",
    "        data_left = data[data[:,int(j)] >= c]\n",
    "        node.left = self.make_subtree(data_left)\n",
    "        data_right = data[data[:,int(j)] < c]\n",
    "        node.right = self.make_subtree(data_right)\n",
    "        return node\n",
    "    \n",
    "    def calc_error(self,root,test_data):\n",
    "        count = 0\n",
    "        for i in range(len(test_data)):\n",
    "            pred = self.predict_class(root,test_data[i,:])\n",
    "            #print(pred,test_data[i,-1])\n",
    "            if (pred != test_data[i,-1]):\n",
    "                count += 1\n",
    "        return count/len(test_data)\n",
    "    \n",
    "    def count_num_node(self,node):\n",
    "        left, right = 0, 0\n",
    "        if node.left is not None:\n",
    "            left = self.count_num_node(node.left)\n",
    "        if node.right is not None:\n",
    "            right = self.count_num_node(node.right)\n",
    "        return left + right + 1\n",
    "    \n",
    "    def count_num_leaves(self,node):\n",
    "        left, right = 0, 0\n",
    "        if node.is_leaf:\n",
    "            return 1\n",
    "        if node.left is not None:\n",
    "            left = self.count_num_leaves(node.left)\n",
    "        if node.right is not None:\n",
    "            right = self.count_num_leaves(node.right)\n",
    "        return left + right\n",
    "    \n",
    "    def plot_boundary(self,data,root,num,title=None,filename=None):\n",
    "        x_mins = data.min(axis=0)\n",
    "        x_maxs = data.max(axis=0)\n",
    "        x0_vals = np.linspace(x_mins[0],x_maxs[0],num)\n",
    "        x1_vals = np.linspace(x_mins[1],x_maxs[1],num)\n",
    "        xx, yy = np.meshgrid(x0_vals, x1_vals)\n",
    "        xx, yy = xx.flatten(), yy.flatten()\n",
    "        xx, yy = xx.reshape((len(xx), 1)), yy.reshape((len(yy), 1))\n",
    "        class0 = []\n",
    "        class1 = []\n",
    "        for i in range(len(xx)):\n",
    "            pred = self.predict_class(root,[xx[i],yy[i]])\n",
    "            if (pred==0):\n",
    "                class0.append([xx[i],yy[i]])\n",
    "            else:\n",
    "                class1.append([xx[i],yy[i]])\n",
    "        class0 = np.array(class0)\n",
    "        class1 = np.array(class1)\n",
    "        plt.scatter(class0[:,0],class0[:,1],color='b',marker='o')\n",
    "        plt.scatter(class1[:,0],class1[:,1],color='r',marker='o')\n",
    "        if (title is not None):\n",
    "            plt.title(title)\n",
    "        if (filename is None):\n",
    "            plt.show()\n",
    "        else:\n",
    "            plt.savefig(filename)\n",
    "        return\n",
    "    \n",
    "    def predict_class(self,root,new_data):\n",
    "        node = root\n",
    "        while not node.is_leaf:\n",
    "            (j, c) = node.split_vals\n",
    "            node = node.left if new_data[int(j)] >= c else node.right\n",
    "        return node.prediction_class"
   ]
  },
  {
   "cell_type": "code",
   "execution_count": 3,
   "metadata": {},
   "outputs": [
    {
     "name": "stdout",
     "output_type": "stream",
     "text": [
      "X0 >= 0.0 Info Gain: 0.0\n",
      "X0 >= 0.1 Gain Ratio: 0.10051807676021828\n",
      "X1 >= -2.0 Info Gain: 0.0\n",
      "X1 >= -1.0 Gain Ratio: 0.10051807676021828\n",
      "X1 >= 0.0 Gain Ratio: 0.055953759631263686\n",
      "X1 >= 1.0 Gain Ratio: 0.00578004220515232\n",
      "X1 >= 2.0 Gain Ratio: 0.0011443495172767494\n",
      "X1 >= 3.0 Gain Ratio: 0.016411136842102023\n",
      "X1 >= 4.0 Gain Ratio: 0.049749064181778546\n",
      "X1 >= 5.0 Gain Ratio: 0.11124029586339801\n",
      "X1 >= 6.0 Gain Ratio: 0.23609960614360798\n",
      "X1 >= 7.0 Gain Ratio: 0.05595375963126384\n",
      "X1 >= 8.0 Gain Ratio: 0.4301569161309807\n"
     ]
    }
   ],
   "source": [
    "data = np.loadtxt(\"Druns.txt\")\n",
    "dt = DecTree()\n",
    "pot_split = dt.get_splits(data)\n",
    "dt.calc_splits(data,pot_split)"
   ]
  },
  {
   "cell_type": "code",
   "execution_count": 4,
   "metadata": {},
   "outputs": [
    {
     "name": "stdout",
     "output_type": "stream",
     "text": [
      "Root Split: [ 0. 10.]\n",
      "Right Split: [1. 3.]\n"
     ]
    }
   ],
   "source": [
    "data_d3 = np.loadtxt('D3leaves.txt');\n",
    "dt3 = DecTree()\n",
    "root = dt3.make_subtree(data_d3)\n",
    "print(\"Root Split:\",root.split_vals)\n",
    "if (not root.left.is_leaf):\n",
    "    print(\"Left Split:\",root.left.split_vals)\n",
    "if (not root.right.is_leaf):\n",
    "    print(\"Right Split:\",root.right.split_vals)"
   ]
  },
  {
   "cell_type": "code",
   "execution_count": 5,
   "metadata": {},
   "outputs": [
    {
     "name": "stdout",
     "output_type": "stream",
     "text": [
      "2\n"
     ]
    }
   ],
   "source": [
    "data_d1 = np.loadtxt(\"D1.txt\")\n",
    "dt1 = DecTree()\n",
    "root_d1 = dt1.make_subtree(data_d1)\n",
    "print(dt1.count_num_leaves(root_d1))"
   ]
  },
  {
   "cell_type": "code",
   "execution_count": 6,
   "metadata": {},
   "outputs": [
    {
     "name": "stdout",
     "output_type": "stream",
     "text": [
      "31\n"
     ]
    }
   ],
   "source": [
    "data_d2 = np.loadtxt(\"D2.txt\")\n",
    "dt2 = DecTree()\n",
    "root_d2 = dt2.make_subtree(data_d2)\n",
    "print(dt2.count_num_leaves(root_d2))"
   ]
  },
  {
   "cell_type": "code",
   "execution_count": 7,
   "metadata": {},
   "outputs": [
    {
     "name": "stdout",
     "output_type": "stream",
     "text": [
      "55\n"
     ]
    }
   ],
   "source": [
    "from sklearn.tree import DecisionTreeClassifier as DTC\n",
    "dtc = DTC(criterion='entropy',splitter='best')\n",
    "dtc.fit(data_d2[:,:-1],data_d2[:,-1])\n",
    "print(dtc.tree_.node_count)"
   ]
  },
  {
   "cell_type": "code",
   "execution_count": 8,
   "metadata": {},
   "outputs": [
    {
     "data": {
      "image/png": "[encoded data removed]",
      "text/plain": [
       "<Figure size 432x288 with 1 Axes>"
      ]
     },
     "metadata": {
      "needs_background": "light"
     },
     "output_type": "display_data"
    }
   ],
   "source": [
    "plt.figure()\n",
    "plt.scatter(data_d1[:,0],data_d1[:,1],c=data_d1[:,-1],cmap='bwr')\n",
    "plt.title(\"D1 Data Points\")\n",
    "plt.savefig(\"d1_points.png\")\n",
    "dt1.plot_boundary(data_d1,root_d1,100,\"D1 Tree Boundary\",filename=\"d1_boundary.png\")"
   ]
  },
  {
   "cell_type": "code",
   "execution_count": 9,
   "metadata": {},
   "outputs": [
    {
     "data": {
      "image/png": "[encoded data removed]",
      "text/plain": [
       "<Figure size 432x288 with 1 Axes>"
      ]
     },
     "metadata": {
      "needs_background": "light"
     },
     "output_type": "display_data"
    }
   ],
   "source": [
    "plt.figure()\n",
    "plt.scatter(data_d2[:,0],data_d2[:,1],c=data_d2[:,-1],cmap='bwr')\n",
    "plt.title(\"D2 Data Points\")\n",
    "plt.savefig(\"d2_points.png\")\n",
    "dt1.plot_boundary(data_d2,root_d2,100,\"D2 Tree Boundary\",filename=\"d2_boundary.png\")"
   ]
  },
  {
   "cell_type": "code",
   "execution_count": 17,
   "metadata": {},
   "outputs": [
    {
     "data": {
      "image/png": "[encoded data removed]",
      "text/plain": [
       "<Figure size 432x288 with 1 Axes>"
      ]
     },
     "metadata": {
      "needs_background": "light"
     },
     "output_type": "display_data"
    }
   ],
   "source": [
    "data_big = np.loadtxt(\"Dbig.txt\")\n",
    "np.random.shuffle(data_big)\n",
    "data_test = data_big[8192:,:]\n",
    "data_big = data_big[:8192,:]\n",
    "\n",
    "nodes = []\n",
    "errs = []\n",
    "size_set = np.array([32,128,512,2048,8192]).reshape(5,1)\n",
    "\n",
    "dt = DecTree()\n",
    "for size in size_set:\n",
    "    data_train = data_big[:size[0],:]\n",
    "    root = dt.make_subtree(data_train)\n",
    "    dt.plot_boundary(data_train,root,100,\"Size \"+str(size)+\" Boundary\",filename=\"size_\"+str(size)+\"_boundary.png\")\n",
    "    nodes.append(dt.count_num_node(root))\n",
    "    errs.append(dt.calc_error(root,data_test))"
   ]
  },
  {
   "cell_type": "code",
   "execution_count": 18,
   "metadata": {},
   "outputs": [
    {
     "name": "stdout",
     "output_type": "stream",
     "text": [
      "     Size      n       err\n",
      "0    32.0    9.0  0.125000\n",
      "1   126.0   17.0  0.071903\n",
      "2   512.0   67.0  0.060841\n",
      "3  2048.0  119.0  0.023783\n",
      "4  8192.0  269.0  0.020465\n"
     ]
    }
   ],
   "source": [
    "nodes = np.array(nodes).reshape(5,1)\n",
    "errs = np.array(errs).reshape(5,1)\n",
    "temp = np.concatenate((size_set,nodes,errs),axis=1)\n",
    "df = pd.DataFrame(data=temp,columns=['Size','n','err'])\n",
    "print(df)"
   ]
  },
  {
   "cell_type": "code",
   "execution_count": 25,
   "metadata": {},
   "outputs": [
    {
     "data": {
      "image/png": "[encoded data removed]",
      "text/plain": [
       "<Figure size 432x288 with 1 Axes>"
      ]
     },
     "metadata": {
      "needs_background": "light"
     },
     "output_type": "display_data"
    }
   ],
   "source": [
    "plt.plot(nodes,errs)\n",
    "plt.title(\"Test Error Rate per Number of Tree Nodes\")\n",
    "plt.xlabel(\"Num Nodes\")\n",
    "plt.ylabel(\"Error Rate\")\n",
    "plt.savefig(\"manual_error_rate.png\")"
   ]
  },
  {
   "cell_type": "code",
   "execution_count": 21,
   "metadata": {},
   "outputs": [
    {
     "name": "stdout",
     "output_type": "stream",
     "text": [
      "     Size  nodes       err\n",
      "0    32.0    9.0  0.153208\n",
      "1   126.0   17.0  0.069137\n",
      "2   512.0   53.0  0.048673\n",
      "3  2048.0   97.0  0.022124\n",
      "4  8192.0  219.0  0.015487\n"
     ]
    }
   ],
   "source": [
    "nodes_sklearn = []\n",
    "errs_sklearn = []\n",
    "\n",
    "dtc = DTC(criterion='entropy')\n",
    "for size in size_set:\n",
    "    data_train = data_big[:size[0],:]\n",
    "    dtc.fit(data_train[:,:-1],data_train[:,-1])\n",
    "    errs_sklearn.append(1-dtc.score(data_test[:,:-1],data_test[:,-1]))\n",
    "    nodes_sklearn.append(dtc.tree_.node_count)\n",
    "    \n",
    "nodes_sklearn = np.array(nodes_sklearn).reshape(5,1)\n",
    "errs_sklearn = np.array(errs_sklearn).reshape(5,1)\n",
    "temp = np.concatenate((size_set,nodes_sklearn,errs_sklearn),axis=1)\n",
    "df = pd.DataFrame(data=temp,columns=['Size','nodes','err'])\n",
    "print(df)"
   ]
  },
  {
   "cell_type": "code",
   "execution_count": 26,
   "metadata": {},
   "outputs": [
    {
     "data": {
      "image/png": "[encoded data removed]",
      "text/plain": [
       "<Figure size 432x288 with 1 Axes>"
      ]
     },
     "metadata": {
      "needs_background": "light"
     },
     "output_type": "display_data"
    }
   ],
   "source": [
    "plt.plot(nodes_sklearn,errs_sklearn)\n",
    "plt.title(\"Test Error Rate per Number of Tree Nodes\")\n",
    "plt.xlabel(\"Num Nodes\")\n",
    "plt.ylabel(\"Error Rate\")\n",
    "plt.savefig(\"sklearn_error_rate.png\")"
   ]
  },
  {
   "cell_type": "code",
   "execution_count": 68,
   "metadata": {},
   "outputs": [
    {
     "data": {
      "image/png": "[encoded data removed]",
      "text/plain": [
       "<Figure size 432x288 with 1 Axes>"
      ]
     },
     "metadata": {
      "needs_background": "light"
     },
     "output_type": "display_data"
    }
   ],
   "source": [
    "num_points = 100\n",
    "x = np.random.uniform(0,6,num_points)\n",
    "x += np.random.normal(0,1,100)\n",
    "#x = np.linspace(0,6,100)\n",
    "y = np.sin(x)\n",
    "\n",
    "plt.scatter(x,y)\n",
    "plt.savefig(\"10_point_scatter_sigma_1.png\")"
   ]
  },
  {
   "cell_type": "code",
   "execution_count": 69,
   "metadata": {},
   "outputs": [],
   "source": [
    "z_vals = np.linspace(0,6,num_points)\n",
    "point = []\n",
    "for k in range(num_points):\n",
    "    z = z_vals[k]\n",
    "    temp = 0\n",
    "    for i in range(len(x)):\n",
    "        den = 1\n",
    "        num = 1\n",
    "        for j in range(len(x)):\n",
    "            if (j==i):\n",
    "                continue\n",
    "            num *= (z-x[j])\n",
    "            den *= (x[i]-x[j])\n",
    "        temp += y[i]*(num/den)\n",
    "    point.append(temp)"
   ]
  },
  {
   "cell_type": "code",
   "execution_count": 72,
   "metadata": {},
   "outputs": [
    {
     "data": {
      "image/png": "[encoded data removed]",
      "text/plain": [
       "<Figure size 432x288 with 1 Axes>"
      ]
     },
     "metadata": {
      "needs_background": "light"
     },
     "output_type": "display_data"
    }
   ],
   "source": [
    "plt.plot(z_vals,point)\n",
    "plt.ylim((-1,1))\n",
    "#plt.plot(z_vals[20:70],point[20:70])\n",
    "plt.savefig(\"100_point_zoom_in_sigma_1.png\")"
   ]
  },
  {
   "cell_type": "code",
   "execution_count": null,
   "metadata": {},
   "outputs": [],
   "source": []
  }
 ],
 "metadata": {
  "kernelspec": {
   "display_name": "Python 3",
   "language": "python",
   "name": "python3"
  },
  "language_info": {
   "codemirror_mode": {
    "name": "ipython",
    "version": 3
   },
   "file_extension": ".py",
   "mimetype": "text/x-python",
   "name": "python",
   "nbconvert_exporter": "python",
   "pygments_lexer": "ipython3",
   "version": "3.8.5"
  }
 },
 "nbformat": 4,
 "nbformat_minor": 4
}
