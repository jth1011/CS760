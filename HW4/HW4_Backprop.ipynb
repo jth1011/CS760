{
 "cells": [
  {
   "cell_type": "code",
   "execution_count": 1,
   "metadata": {},
   "outputs": [
    {
     "name": "stderr",
     "output_type": "stream",
     "text": [
      "Using TensorFlow backend.\n"
     ]
    }
   ],
   "source": [
    "import random\n",
    "import numpy as np\n",
    "import tensorflow as tf\n",
    "import matplotlib.pyplot as plt\n",
    "from keras.utils.np_utils import to_categorical"
   ]
  },
  {
   "cell_type": "code",
   "execution_count": 2,
   "metadata": {},
   "outputs": [],
   "source": [
    "'''\n",
    "Simple 3 layer dense fully connected model allowing for layers\n",
    "of any size.\n",
    "'''\n",
    "class dnn:\n",
    "    def __init__(self, sizes, epochs=10, rate=0.001, weight_params=(0,0.1)):\n",
    "        self.sizes = sizes\n",
    "        self.epochs = epochs\n",
    "        self.rate = rate\n",
    "        \n",
    "        mu = weight_params[0]\n",
    "        sig = weight_params[1]\n",
    "        self.weights = {\n",
    "            'w1':np.random.normal(mu,sig,size=(sizes[1],sizes[0])),\n",
    "            'w2':np.random.normal(mu,sig,size=(sizes[2],sizes[1]))\n",
    "        }\n",
    "        \n",
    "    '''\n",
    "    Return sigmoid function output with option for derivative\n",
    "    '''\n",
    "    def sigmoid(self, val, der=False):\n",
    "        sig = 1/(1+np.exp(-val))\n",
    "        if der:\n",
    "            return sig*(1-sig)\n",
    "        else:\n",
    "            return sig\n",
    "    \n",
    "    '''\n",
    "    Return softmax function output with option for derivative\n",
    "    '''\n",
    "    def softmax(self, val, der=False): # found online at [1] for stability\n",
    "        exp = np.exp(val - val.max())\n",
    "        sig = exp/np.sum(exp,axis=0)\n",
    "        if der:\n",
    "            return sig*(1-sig)\n",
    "        else:\n",
    "            return sig\n",
    "    \n",
    "    '''\n",
    "    Calculates the forward pass of a network\n",
    "    '''\n",
    "    def forward(self, x):\n",
    "        weights = self.weights\n",
    "        weights['a0'] = x\n",
    "        \n",
    "        weights['z1'] = np.dot(weights['w1'],weights['a0'])\n",
    "        weights['a1'] = self.sigmoid(weights['z1'])\n",
    "        \n",
    "        weights['z2'] = np.dot(weights['w2'],weights['a1'])\n",
    "        weights['a2'] = self.softmax(weights['z2'])\n",
    "        \n",
    "        return weights['a2']\n",
    "    \n",
    "    '''\n",
    "    Calculates the backpropagation of the network and returns the \n",
    "    gradient for the weights\n",
    "    '''\n",
    "    def backward(self, y_train, y_pred):\n",
    "        weights = self.weights\n",
    "        delta_w = {} # create an empty set to store weight grads\n",
    "        \n",
    "        err = (y_pred-y_train)/y_pred.shape[0]*self.softmax(weights['z2'],der=True)\n",
    "        delta_w['w2'] = np.outer(err,weights['a1'])\n",
    "        \n",
    "        err = np.dot(weights['w2'].T,err)*self.sigmoid(weights['z1'],der=True)\n",
    "        delta_w['w1'] = np.outer(err,weights['a0'])\n",
    "        \n",
    "        return delta_w\n",
    "    \n",
    "    '''\n",
    "    Update the weights using learning rate and gradient\n",
    "    '''\n",
    "    def update(self,deltas):\n",
    "        for key,val in deltas.items():\n",
    "            self.weights[key] -= self.rate*val\n",
    "    \n",
    "    '''\n",
    "    Calculate the accuracy of the current weights on testing data\n",
    "    '''\n",
    "    def accuracy(self, x_test, y_test):\n",
    "        correct = np.zeros(len(y_test))\n",
    "        for i,(x,y) in enumerate(zip(x_test,y_test)):\n",
    "            out = self.forward(x)\n",
    "            pred = np.argmax(out)\n",
    "            correct[i] = 1*(pred==np.argmax(y))\n",
    "        return np.mean(correct)\n",
    "    \n",
    "    def train(self,x_train,y_train,x_test,y_test):\n",
    "        acc = []\n",
    "        for it in range(self.epochs):\n",
    "            shuffle = np.random.permutation(len(y_train)) #shuffle sgd\n",
    "            for x,y in zip(x_train[shuffle],y_train[shuffle]):\n",
    "                out = self.forward(x) # forward pass\n",
    "                deltas = self.backward(y,out) # backpropegation\n",
    "                self.update(deltas) # interate weights\n",
    "            temp_acc = self.accuracy(x_test,y_test)\n",
    "            acc.append(temp_acc)\n",
    "        return acc"
   ]
  },
  {
   "cell_type": "markdown",
   "metadata": {},
   "source": [
    "1: [Link to code for stable softmax function](https://stackoverflow.com/questions/34968722/how-to-implement-the-softmax-function-in-python)"
   ]
  },
  {
   "cell_type": "code",
   "execution_count": 3,
   "metadata": {},
   "outputs": [],
   "source": [
    "# Load data\n",
    "(x_train, y_train), (x_test, y_test) = tf.keras.datasets.mnist.load_data()"
   ]
  },
  {
   "cell_type": "code",
   "execution_count": 4,
   "metadata": {},
   "outputs": [],
   "source": [
    "# convert labels to one-hot\n",
    "y_train = to_categorical(y_train)\n",
    "y_test = to_categorical(y_test)\n",
    "\n",
    "# scale data from 0-255 -> 0.0-1.0 to help with stability\n",
    "x_train = (x_train.reshape(len(x_train),784)/255).astype('float32')\n",
    "x_test = (x_test.reshape(len(x_test),784)/255).astype('float32')"
   ]
  },
  {
   "cell_type": "code",
   "execution_count": 5,
   "metadata": {},
   "outputs": [],
   "source": [
    "clf = dnn(rate=0.01,epochs=20,sizes=[784,300,10],weight_params=(0,0.1))\n",
    "acc = clf.train(x_train,y_train,x_test,y_test)"
   ]
  },
  {
   "cell_type": "code",
   "execution_count": 6,
   "metadata": {},
   "outputs": [
    {
     "data": {
      "image/png": "[encoded data removed]",
      "text/plain": [
       "<Figure size 432x288 with 1 Axes>"
      ]
     },
     "metadata": {
      "needs_background": "light"
     },
     "output_type": "display_data"
    }
   ],
   "source": [
    "# plot testing accuracy\n",
    "plt.plot(acc);\n",
    "plt.title(\"Testing Accuracy\");\n",
    "plt.ylabel(\"Accuracy\");\n",
    "plt.xlabel(\"Epochs\");"
   ]
  },
  {
   "cell_type": "markdown",
   "metadata": {},
   "source": [
    "### Using tensorflow to create same model as above"
   ]
  },
  {
   "cell_type": "code",
   "execution_count": 43,
   "metadata": {},
   "outputs": [],
   "source": [
    "model = tf.keras.Sequential([\n",
    "    tf.keras.Input(shape=(784,)),\n",
    "    tf.keras.layers.Dense(300, activation='sigmoid'),\n",
    "    tf.keras.layers.Dense(10, activation='softmax')\n",
    "])"
   ]
  },
  {
   "cell_type": "code",
   "execution_count": 44,
   "metadata": {},
   "outputs": [
    {
     "name": "stdout",
     "output_type": "stream",
     "text": [
      "Epoch 1/10\n",
      "1875/1875 [==============================] - 7s 4ms/step - loss: 1.7691 - accuracy: 0.5568 - val_loss: 0.7867 - val_accuracy: 0.8363\n",
      "Epoch 2/10\n",
      "1875/1875 [==============================] - 5s 3ms/step - loss: 0.7154 - accuracy: 0.8456 - val_loss: 0.5242 - val_accuracy: 0.8737\n",
      "Epoch 3/10\n",
      "1875/1875 [==============================] - 6s 3ms/step - loss: 0.5152 - accuracy: 0.8733 - val_loss: 0.4358 - val_accuracy: 0.8870\n",
      "Epoch 4/10\n",
      "1875/1875 [==============================] - 5s 3ms/step - loss: 0.4394 - accuracy: 0.8849 - val_loss: 0.3918 - val_accuracy: 0.8941\n",
      "Epoch 5/10\n",
      "1875/1875 [==============================] - 4s 2ms/step - loss: 0.4006 - accuracy: 0.8916 - val_loss: 0.3643 - val_accuracy: 0.9001\n",
      "Epoch 6/10\n",
      "1875/1875 [==============================] - 4s 2ms/step - loss: 0.3774 - accuracy: 0.8968 - val_loss: 0.3465 - val_accuracy: 0.9017\n",
      "Epoch 7/10\n",
      "1875/1875 [==============================] - 5s 3ms/step - loss: 0.3663 - accuracy: 0.8974 - val_loss: 0.3333 - val_accuracy: 0.9057\n",
      "Epoch 8/10\n",
      "1875/1875 [==============================] - 5s 3ms/step - loss: 0.3460 - accuracy: 0.9021 - val_loss: 0.3239 - val_accuracy: 0.9081\n",
      "Epoch 9/10\n",
      "1875/1875 [==============================] - 5s 3ms/step - loss: 0.3373 - accuracy: 0.9029 - val_loss: 0.3168 - val_accuracy: 0.9105\n",
      "Epoch 10/10\n",
      "1875/1875 [==============================] - 5s 3ms/step - loss: 0.3314 - accuracy: 0.9056 - val_loss: 0.3103 - val_accuracy: 0.9106\n"
     ]
    }
   ],
   "source": [
    "model.compile(optimizer='sgd',\n",
    "             loss=tf.keras.losses.CategoricalCrossentropy(),\n",
    "             metrics=['accuracy'])\n",
    "\n",
    "history = model.fit(x_train,y_train,epochs=10,validation_data=(x_test,y_test)).history"
   ]
  },
  {
   "cell_type": "code",
   "execution_count": 45,
   "metadata": {},
   "outputs": [
    {
     "data": {
      "image/png": "[encoded data removed]",
      "text/plain": [
       "<Figure size 432x288 with 1 Axes>"
      ]
     },
     "metadata": {
      "needs_background": "light"
     },
     "output_type": "display_data"
    }
   ],
   "source": [
    "# plot testing accuracy\n",
    "plt.plot(history['val_accuracy']);\n",
    "plt.title(\"Testing Accuracy\");\n",
    "plt.ylabel(\"Accuracy\");\n",
    "plt.xlabel(\"Epochs\");"
   ]
  },
  {
   "cell_type": "code",
   "execution_count": null,
   "metadata": {},
   "outputs": [],
   "source": []
  }
 ],
 "metadata": {
  "kernelspec": {
   "display_name": "Python 3",
   "language": "python",
   "name": "python3"
  },
  "language_info": {
   "codemirror_mode": {
    "name": "ipython",
    "version": 3
   },
   "file_extension": ".py",
   "mimetype": "text/x-python",
   "name": "python",
   "nbconvert_exporter": "python",
   "pygments_lexer": "ipython3",
   "version": "3.8.8"
  }
 },
 "nbformat": 4,
 "nbformat_minor": 4
}
