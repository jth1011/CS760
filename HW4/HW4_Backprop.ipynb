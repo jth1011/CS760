{
 "cells": [
  {
   "cell_type": "code",
   "execution_count": 1,
   "metadata": {},
   "outputs": [],
   "source": [
    "import random\n",
    "import numpy as np\n",
    "import tensorflow as tf\n",
    "import matplotlib.pyplot as plt\n",
    "from keras.utils.np_utils import to_categorical"
   ]
  },
  {
   "cell_type": "code",
   "execution_count": 2,
   "metadata": {},
   "outputs": [],
   "source": [
    "'''\n",
    "Simple 3 layer dense fully connected model allowing for layers\n",
    "of any size.\n",
    "'''\n",
    "class dnn:\n",
    "    def __init__(self, sizes, epochs=10, rate=0.001, weight_params=(0,0.1)):\n",
    "        self.sizes = sizes\n",
    "        self.epochs = epochs\n",
    "        self.rate = rate\n",
    "        \n",
    "        mu = weight_params[0]\n",
    "        sig = weight_params[1]\n",
    "        self.weights = {\n",
    "            'w1':np.random.normal(mu,sig,size=(sizes[1],sizes[0])),\n",
    "            'w2':np.random.normal(mu,sig,size=(sizes[2],sizes[1]))\n",
    "        }\n",
    "        print(\"initial w1:\")\n",
    "        print(self.weights['w1'])\n",
    "        print(\"initial w2:\")\n",
    "        print(self.weights['w2'])\n",
    "    '''\n",
    "    Return sigmoid function output with option for derivative\n",
    "    '''\n",
    "    def sigmoid(self, val, der=False):\n",
    "        sig = 1/(1+np.exp(-val))\n",
    "        if der:\n",
    "            return sig*(1-sig)\n",
    "        else:\n",
    "            return sig\n",
    "    \n",
    "    '''\n",
    "    Return softmax function output with option for derivative\n",
    "    '''\n",
    "    def softmax(self, val, der=False): # found online at [1] for stability\n",
    "        exp = np.exp(val - val.max())\n",
    "        sig = exp/np.sum(exp,axis=0)\n",
    "        if der:\n",
    "            return sig*(1-sig)\n",
    "        else:\n",
    "            return sig\n",
    "    \n",
    "    '''\n",
    "    Calculates the forward pass of a network\n",
    "    '''\n",
    "    def forward(self, x):\n",
    "        weights = self.weights\n",
    "        weights['a0'] = x\n",
    "        \n",
    "        weights['z1'] = np.dot(weights['w1'],weights['a0'])\n",
    "        weights['a1'] = self.sigmoid(weights['z1'])\n",
    "        \n",
    "        weights['z2'] = np.dot(weights['w2'],weights['a1'])\n",
    "        weights['a2'] = self.softmax(weights['z2'])\n",
    "        \n",
    "        return weights['a2']\n",
    "    \n",
    "    '''\n",
    "    Calculates the backpropagation of the network and returns the \n",
    "    gradient for the weights\n",
    "    '''\n",
    "    def backward(self, y_train, y_pred):\n",
    "        weights = self.weights\n",
    "        delta_w = {} # create an empty set to store weight grads\n",
    "        \n",
    "        err = (y_pred-y_train)/y_pred.shape[0]*self.softmax(weights['z2'],der=True)\n",
    "        delta_w['w2'] = np.outer(err,weights['a1'])\n",
    "        \n",
    "        err = np.dot(weights['w2'].T,err)*self.sigmoid(weights['z1'],der=True)\n",
    "        delta_w['w1'] = np.outer(err,weights['a0'])\n",
    "        \n",
    "        return delta_w\n",
    "    \n",
    "    '''\n",
    "    Update the weights using learning rate and gradient\n",
    "    '''\n",
    "    def update(self,deltas):\n",
    "        for key,val in deltas.items():\n",
    "            self.weights[key] -= self.rate*val\n",
    "    \n",
    "    '''\n",
    "    Calculate the accuracy of the current weights on testing data\n",
    "    '''\n",
    "    def accuracy(self, x_test, y_test):\n",
    "        correct = np.zeros(len(y_test))\n",
    "        for i,(x,y) in enumerate(zip(x_test,y_test)):\n",
    "            out = self.forward(x)\n",
    "            pred = np.argmax(out)\n",
    "            correct[i] = 1*(pred==np.argmax(y))\n",
    "        return np.mean(correct)\n",
    "    \n",
    "    def train(self,x_train,y_train,x_test,y_test):\n",
    "        test_acc = []\n",
    "        train_acc = []\n",
    "        for it in range(self.epochs):\n",
    "            shuffle = np.random.permutation(len(y_train)) #shuffle sgd\n",
    "            for x,y in zip(x_train[shuffle],y_train[shuffle]):\n",
    "                out = self.forward(x) # forward pass\n",
    "                deltas = self.backward(y,out) # backpropegation\n",
    "                self.update(deltas) # interate weights\n",
    "            temp_test_acc = self.accuracy(x_test,y_test)\n",
    "            temp_train_acc = self.accuracy(x_train,y_train)\n",
    "            test_acc.append(temp_test_acc)\n",
    "            train_acc.append(temp_train_acc)\n",
    "        return train_acc,test_acc"
   ]
  },
  {
   "cell_type": "markdown",
   "metadata": {},
   "source": [
    "1: [Link to code for stable softmax function](https://stackoverflow.com/questions/34968722/how-to-implement-the-softmax-function-in-python)"
   ]
  },
  {
   "cell_type": "code",
   "execution_count": 3,
   "metadata": {},
   "outputs": [],
   "source": [
    "# Load data\n",
    "(x_train, y_train), (x_test, y_test) = tf.keras.datasets.mnist.load_data()"
   ]
  },
  {
   "cell_type": "code",
   "execution_count": 4,
   "metadata": {},
   "outputs": [],
   "source": [
    "# convert labels to one-hot\n",
    "y_train = to_categorical(y_train)\n",
    "y_test = to_categorical(y_test)\n",
    "\n",
    "# scale data from 0-255 -> 0.0-1.0 to help with stability\n",
    "x_train = (x_train.reshape(len(x_train),784)/255).astype('float32')\n",
    "x_test = (x_test.reshape(len(x_test),784)/255).astype('float32')"
   ]
  },
  {
   "cell_type": "code",
   "execution_count": 5,
   "metadata": {},
   "outputs": [
    {
     "name": "stdout",
     "output_type": "stream",
     "text": [
      "initial w1:\n",
      "[[-0.00483925 -0.00702843  0.00820651 ...  0.00272597 -0.00266022\n",
      "  -0.00756389]\n",
      " [-0.00163541 -0.00177115  0.01271679 ...  0.00122555  0.01438095\n",
      "  -0.02003649]\n",
      " [-0.01063854 -0.00154839 -0.00723078 ... -0.00514179 -0.01264166\n",
      "  -0.00320981]\n",
      " ...\n",
      " [-0.02159524 -0.00538915  0.01252392 ...  0.01459499 -0.00741014\n",
      "  -0.00587209]\n",
      " [-0.01015683  0.01495926  0.00838854 ...  0.0015877  -0.0183025\n",
      "   0.02344034]\n",
      " [ 0.00538214  0.00057529  0.01061781 ... -0.00779989  0.00619209\n",
      "   0.02138656]]\n",
      "initial w2:\n",
      "[[-2.08472142e-03  1.13551420e-02  1.57797924e-02 ... -1.75661064e-02\n",
      "  -1.55763158e-03  9.46115117e-03]\n",
      " [ 1.42389807e-02 -2.86104933e-03 -9.70492281e-03 ... -8.41439586e-03\n",
      "   3.10963952e-03  4.81514552e-05]\n",
      " [ 1.20531671e-02 -5.59904688e-03 -7.11504714e-03 ...  1.27840297e-02\n",
      "  -3.36590039e-03  8.66318564e-03]\n",
      " ...\n",
      " [-1.25851841e-02 -1.52395783e-02 -1.30456104e-02 ... -1.01062561e-02\n",
      "  -1.06219065e-02  2.07993982e-02]\n",
      " [-5.79762444e-03  1.38026839e-02 -3.54494060e-03 ...  3.72812037e-03\n",
      "  -3.26449106e-03 -1.66327669e-02]\n",
      " [-1.00170806e-02 -8.96649292e-04 -8.19928295e-03 ...  5.77047341e-03\n",
      "   4.08468009e-03 -3.61768459e-03]]\n"
     ]
    }
   ],
   "source": [
    "clf = dnn(rate=0.01,epochs=30,sizes=[784,300,10],weight_params=(0,0.01))\n",
    "train_acc,test_acc = clf.train(x_train,y_train,x_test,y_test)"
   ]
  },
  {
   "cell_type": "code",
   "execution_count": 6,
   "metadata": {},
   "outputs": [
    {
     "data": {
      "image/png": "[encoded data removed]",
      "text/plain": [
       "<Figure size 432x288 with 1 Axes>"
      ]
     },
     "metadata": {
      "needs_background": "light"
     },
     "output_type": "display_data"
    }
   ],
   "source": [
    "# plot testing accuracy\n",
    "plt.plot(train_acc,color='b',label='Train Acc');\n",
    "plt.plot(test_acc,color='r',label='Test Acc');\n",
    "plt.legend()\n",
    "plt.title(\"Manual Learning Curve\");\n",
    "plt.ylabel(\"Accuracy\");\n",
    "plt.xlabel(\"Epochs\");"
   ]
  },
  {
   "cell_type": "markdown",
   "metadata": {},
   "source": [
    "### Using tensorflow to create same model as above"
   ]
  },
  {
   "cell_type": "code",
   "execution_count": 7,
   "metadata": {},
   "outputs": [],
   "source": [
    "model = tf.keras.Sequential([\n",
    "    tf.keras.Input(shape=(784,)),\n",
    "    tf.keras.layers.Dense(300, activation='sigmoid'),\n",
    "    tf.keras.layers.Dense(10, activation='softmax')\n",
    "])"
   ]
  },
  {
   "cell_type": "code",
   "execution_count": 8,
   "metadata": {},
   "outputs": [
    {
     "name": "stdout",
     "output_type": "stream",
     "text": [
      "Epoch 1/10\n",
      "1875/1875 [==============================] - 2s 864us/step - loss: 1.3475 - accuracy: 0.7225 - val_loss: 0.7765 - val_accuracy: 0.8441\n",
      "Epoch 2/10\n",
      "1875/1875 [==============================] - 1s 766us/step - loss: 0.6421 - accuracy: 0.8542 - val_loss: 0.5200 - val_accuracy: 0.8749\n",
      "Epoch 3/10\n",
      "1875/1875 [==============================] - 1s 767us/step - loss: 0.4909 - accuracy: 0.8760 - val_loss: 0.4331 - val_accuracy: 0.8906\n",
      "Epoch 4/10\n",
      "1875/1875 [==============================] - 1s 768us/step - loss: 0.4282 - accuracy: 0.8860 - val_loss: 0.3897 - val_accuracy: 0.8966\n",
      "Epoch 5/10\n",
      "1875/1875 [==============================] - 1s 772us/step - loss: 0.3937 - accuracy: 0.8924 - val_loss: 0.3632 - val_accuracy: 0.9005\n",
      "Epoch 6/10\n",
      "1875/1875 [==============================] - 1s 773us/step - loss: 0.3712 - accuracy: 0.8966 - val_loss: 0.3465 - val_accuracy: 0.9039\n",
      "Epoch 7/10\n",
      "1875/1875 [==============================] - 1s 772us/step - loss: 0.3554 - accuracy: 0.8997 - val_loss: 0.3331 - val_accuracy: 0.9059\n",
      "Epoch 8/10\n",
      "1875/1875 [==============================] - 1s 766us/step - loss: 0.3431 - accuracy: 0.9027 - val_loss: 0.3234 - val_accuracy: 0.9086\n",
      "Epoch 9/10\n",
      "1875/1875 [==============================] - 1s 761us/step - loss: 0.3335 - accuracy: 0.9050 - val_loss: 0.3156 - val_accuracy: 0.9095\n",
      "Epoch 10/10\n",
      "1875/1875 [==============================] - 1s 756us/step - loss: 0.3255 - accuracy: 0.9068 - val_loss: 0.3088 - val_accuracy: 0.9112\n"
     ]
    }
   ],
   "source": [
    "model.compile(optimizer='sgd',\n",
    "             loss=tf.keras.losses.CategoricalCrossentropy(),\n",
    "             metrics=['accuracy'])\n",
    "\n",
    "history = model.fit(x_train,y_train,epochs=10,validation_data=(x_test,y_test)).history"
   ]
  },
  {
   "cell_type": "code",
   "execution_count": 9,
   "metadata": {},
   "outputs": [
    {
     "data": {
      "image/png": "[encoded data removed]",
      "text/plain": [
       "<Figure size 432x288 with 1 Axes>"
      ]
     },
     "metadata": {
      "needs_background": "light"
     },
     "output_type": "display_data"
    }
   ],
   "source": [
    "# plot testing accuracy\n",
    "plt.plot(history['val_accuracy'],color='r',label='Test Acc');\n",
    "plt.plot(history['accuracy'],color='b',label='Train Acc');\n",
    "plt.legend()\n",
    "plt.title(\"Tensorflow Learning Curve\");\n",
    "plt.ylabel(\"Accuracy\");\n",
    "plt.xlabel(\"Epochs\");"
   ]
  },
  {
   "cell_type": "code",
   "execution_count": null,
   "metadata": {},
   "outputs": [],
   "source": []
  }
 ],
 "metadata": {
  "kernelspec": {
   "display_name": "Python 3",
   "language": "python",
   "name": "python3"
  },
  "language_info": {
   "codemirror_mode": {
    "name": "ipython",
    "version": 3
   },
   "file_extension": ".py",
   "mimetype": "text/x-python",
   "name": "python",
   "nbconvert_exporter": "python",
   "pygments_lexer": "ipython3",
   "version": "3.8.5"
  }
 },
 "nbformat": 4,
 "nbformat_minor": 4
}
