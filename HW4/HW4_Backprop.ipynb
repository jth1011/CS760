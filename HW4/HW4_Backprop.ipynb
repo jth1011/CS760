{
 "cells": [
  {
   "cell_type": "code",
   "execution_count": 1,
   "metadata": {},
   "outputs": [
    {
     "name": "stderr",
     "output_type": "stream",
     "text": [
      "Using TensorFlow backend.\n"
     ]
    }
   ],
   "source": [
    "import random\n",
    "import numpy as np\n",
    "import tensorflow as tf\n",
    "import matplotlib.pyplot as plt\n",
    "from keras.utils.np_utils import to_categorical"
   ]
  },
  {
   "cell_type": "code",
   "execution_count": 2,
   "metadata": {},
   "outputs": [],
   "source": [
    "'''\n",
    "Simple 3 layer dense fully connected model allowing for layers\n",
    "of any size.\n",
    "'''\n",
    "class dnn:\n",
    "    def __init__(self, sizes, epochs=10, rate=0.001, weight_params=(0,0.1)):\n",
    "        self.sizes = sizes\n",
    "        self.epochs = epochs\n",
    "        self.rate = rate\n",
    "        \n",
    "        mu = weight_params[0]\n",
    "        sig = weight_params[1]\n",
    "        self.weights = {\n",
    "            'w1':np.random.normal(mu,sig,size=(sizes[1],sizes[0])),\n",
    "            'w2':np.random.normal(mu,sig,size=(sizes[2],sizes[1]))\n",
    "        }\n",
    "        print(\"initial w1:\")\n",
    "        print(self.weights['w1'])\n",
    "        print(\"initial w2:\")\n",
    "        print(self.weights['w2'])\n",
    "    '''\n",
    "    Return sigmoid function output with option for derivative\n",
    "    '''\n",
    "    def sigmoid(self, val, der=False):\n",
    "        sig = 1/(1+np.exp(-val))\n",
    "        if der:\n",
    "            return sig*(1-sig)\n",
    "        else:\n",
    "            return sig\n",
    "    \n",
    "    '''\n",
    "    Return softmax function output with option for derivative\n",
    "    '''\n",
    "    def softmax(self, val, der=False): # found online at [1] for stability\n",
    "        exp = np.exp(val - val.max())\n",
    "        sig = exp/np.sum(exp,axis=0)\n",
    "        if der:\n",
    "            return sig*(1-sig)\n",
    "        else:\n",
    "            return sig\n",
    "    \n",
    "    '''\n",
    "    Calculates the forward pass of a network\n",
    "    '''\n",
    "    def forward(self, x):\n",
    "        weights = self.weights\n",
    "        weights['a0'] = x\n",
    "        \n",
    "        weights['z1'] = np.dot(weights['w1'],weights['a0'])\n",
    "        weights['a1'] = self.sigmoid(weights['z1'])\n",
    "        \n",
    "        weights['z2'] = np.dot(weights['w2'],weights['a1'])\n",
    "        weights['a2'] = self.softmax(weights['z2'])\n",
    "        \n",
    "        return weights['a2']\n",
    "    \n",
    "    '''\n",
    "    Calculates the backpropagation of the network and returns the \n",
    "    gradient for the weights\n",
    "    '''\n",
    "    def backward(self, y_train, y_pred):\n",
    "        weights = self.weights\n",
    "        delta_w = {} # create an empty set to store weight grads\n",
    "        \n",
    "        err = (y_pred-y_train)/y_pred.shape[0]*self.softmax(weights['z2'],der=True)\n",
    "        delta_w['w2'] = np.outer(err,weights['a1'])\n",
    "        \n",
    "        err = np.dot(weights['w2'].T,err)*self.sigmoid(weights['z1'],der=True)\n",
    "        delta_w['w1'] = np.outer(err,weights['a0'])\n",
    "        \n",
    "        return delta_w\n",
    "    \n",
    "    '''\n",
    "    Update the weights using learning rate and gradient\n",
    "    '''\n",
    "    def update(self,deltas):\n",
    "        for key,val in deltas.items():\n",
    "            self.weights[key] -= self.rate*val\n",
    "    \n",
    "    '''\n",
    "    Calculate the accuracy of the current weights on testing data\n",
    "    '''\n",
    "    def accuracy(self, x_test, y_test):\n",
    "        correct = np.zeros(len(y_test))\n",
    "        for i,(x,y) in enumerate(zip(x_test,y_test)):\n",
    "            out = self.forward(x)\n",
    "            pred = np.argmax(out)\n",
    "            correct[i] = 1*(pred==np.argmax(y))\n",
    "        return np.mean(correct)\n",
    "    \n",
    "    def train(self,x_train,y_train,x_test,y_test):\n",
    "        test_acc = []\n",
    "        train_acc = []\n",
    "        for it in range(self.epochs):\n",
    "            shuffle = np.random.permutation(len(y_train)) #shuffle sgd\n",
    "            for x,y in zip(x_train[shuffle],y_train[shuffle]):\n",
    "                out = self.forward(x) # forward pass\n",
    "                deltas = self.backward(y,out) # backpropegation\n",
    "                self.update(deltas) # interate weights\n",
    "            temp_test_acc = self.accuracy(x_test,y_test)\n",
    "            temp_train_acc = self.accuracy(x_train,y_train)\n",
    "            test_acc.append(temp_test_acc)\n",
    "            train_acc.append(temp_train_acc)\n",
    "        return train_acc,test_acc"
   ]
  },
  {
   "cell_type": "markdown",
   "metadata": {},
   "source": [
    "1: [Link to code for stable softmax function](https://stackoverflow.com/questions/34968722/how-to-implement-the-softmax-function-in-python)"
   ]
  },
  {
   "cell_type": "code",
   "execution_count": 3,
   "metadata": {},
   "outputs": [],
   "source": [
    "# Load data\n",
    "(x_train, y_train), (x_test, y_test) = tf.keras.datasets.mnist.load_data()"
   ]
  },
  {
   "cell_type": "code",
   "execution_count": 4,
   "metadata": {},
   "outputs": [],
   "source": [
    "# convert labels to one-hot\n",
    "y_train = to_categorical(y_train)\n",
    "y_test = to_categorical(y_test)\n",
    "\n",
    "# scale data from 0-255 -> 0.0-1.0 to help with stability\n",
    "x_train = (x_train.reshape(len(x_train),784)/255).astype('float32')\n",
    "x_test = (x_test.reshape(len(x_test),784)/255).astype('float32')"
   ]
  },
  {
   "cell_type": "code",
   "execution_count": 5,
   "metadata": {},
   "outputs": [
    {
     "name": "stdout",
     "output_type": "stream",
     "text": [
      "w1:\n",
      "[[-0.00043499  0.00125902 -0.00353918 ...  0.01695713  0.01038155\n",
      "   0.02498683]\n",
      " [-0.00747192 -0.00660738  0.00282746 ...  0.00386523 -0.00979875\n",
      "  -0.02121269]\n",
      " [-0.00162685  0.00788688  0.00030683 ... -0.01876108  0.01228094\n",
      "  -0.01597862]\n",
      " ...\n",
      " [ 0.01865765 -0.004888   -0.02936259 ... -0.00187539 -0.00461378\n",
      "  -0.0046217 ]\n",
      " [ 0.00149899  0.01768684 -0.00572025 ... -0.00068829  0.00848492\n",
      "  -0.00301619]\n",
      " [ 0.00768285 -0.03659497  0.01122215 ... -0.00927037 -0.00343739\n",
      "  -0.01138568]]\n",
      "w2:\n",
      "[[-0.00481194 -0.00383121  0.00093831 ...  0.02046944 -0.01905419\n",
      "  -0.00750487]\n",
      " [-0.01055063 -0.00540094  0.01373389 ...  0.00075688  0.00132433\n",
      "  -0.00333939]\n",
      " [-0.0028789   0.0033582  -0.01136629 ...  0.00520272  0.00278522\n",
      "   0.00738701]\n",
      " ...\n",
      " [-0.00754042 -0.01911097 -0.00840039 ... -0.0033576  -0.00454132\n",
      "  -0.01807097]\n",
      " [ 0.0042844   0.00768897  0.00987757 ... -0.00477413 -0.00368572\n",
      "   0.0081552 ]\n",
      " [ 0.00107497 -0.00068034 -0.00085924 ... -0.0009239   0.00507851\n",
      "   0.01873371]]\n"
     ]
    }
   ],
   "source": [
    "clf = dnn(rate=0.01,epochs=10,sizes=[784,300,10],weight_params=(0,0.01))\n",
    "train_acc,test_acc = clf.train(x_train,y_train,x_test,y_test)"
   ]
  },
  {
   "cell_type": "code",
   "execution_count": 6,
   "metadata": {},
   "outputs": [
    {
     "data": {
      "image/png": "[encoded data removed]",
      "text/plain": [
       "<Figure size 432x288 with 1 Axes>"
      ]
     },
     "metadata": {
      "needs_background": "light"
     },
     "output_type": "display_data"
    }
   ],
   "source": [
    "# plot testing accuracy\n",
    "plt.plot(train_acc,color='b',label='Train Acc');\n",
    "plt.plot(test_acc,color='r',label='Test Acc');\n",
    "plt.legend()\n",
    "plt.title(\"Manual Learning Curve\");\n",
    "plt.ylabel(\"Accuracy\");\n",
    "plt.xlabel(\"Epochs\");"
   ]
  },
  {
   "cell_type": "markdown",
   "metadata": {},
   "source": [
    "### Using tensorflow to create same model as above"
   ]
  },
  {
   "cell_type": "code",
   "execution_count": 7,
   "metadata": {},
   "outputs": [],
   "source": [
    "model = tf.keras.Sequential([\n",
    "    tf.keras.Input(shape=(784,)),\n",
    "    tf.keras.layers.Dense(300, activation='sigmoid'),\n",
    "    tf.keras.layers.Dense(10, activation='softmax')\n",
    "])"
   ]
  },
  {
   "cell_type": "code",
   "execution_count": 8,
   "metadata": {},
   "outputs": [
    {
     "name": "stdout",
     "output_type": "stream",
     "text": [
      "Epoch 1/10\n",
      "1875/1875 [==============================] - 6s 3ms/step - loss: 1.7452 - accuracy: 0.5832 - val_loss: 0.7698 - val_accuracy: 0.8447\n",
      "Epoch 2/10\n",
      "1875/1875 [==============================] - 7s 4ms/step - loss: 0.7038 - accuracy: 0.8487 - val_loss: 0.5185 - val_accuracy: 0.8761\n",
      "Epoch 3/10\n",
      "1875/1875 [==============================] - 5s 3ms/step - loss: 0.5111 - accuracy: 0.8731 - val_loss: 0.4324 - val_accuracy: 0.8885\n",
      "Epoch 4/10\n",
      "1875/1875 [==============================] - 5s 3ms/step - loss: 0.4411 - accuracy: 0.8832 - val_loss: 0.3885 - val_accuracy: 0.8962\n",
      "Epoch 5/10\n",
      "1875/1875 [==============================] - 4s 2ms/step - loss: 0.4008 - accuracy: 0.8907 - val_loss: 0.3618 - val_accuracy: 0.9011\n",
      "Epoch 6/10\n",
      "1875/1875 [==============================] - 6s 3ms/step - loss: 0.3748 - accuracy: 0.8965 - val_loss: 0.3439 - val_accuracy: 0.9051\n",
      "Epoch 7/10\n",
      "1875/1875 [==============================] - 6s 3ms/step - loss: 0.3586 - accuracy: 0.8991 - val_loss: 0.3319 - val_accuracy: 0.9068\n",
      "Epoch 8/10\n",
      "1875/1875 [==============================] - 5s 3ms/step - loss: 0.3476 - accuracy: 0.9012 - val_loss: 0.3222 - val_accuracy: 0.9087\n",
      "Epoch 9/10\n",
      "1875/1875 [==============================] - 5s 3ms/step - loss: 0.3331 - accuracy: 0.9046 - val_loss: 0.3143 - val_accuracy: 0.9116\n",
      "Epoch 10/10\n",
      "1875/1875 [==============================] - 4s 2ms/step - loss: 0.3273 - accuracy: 0.9069 - val_loss: 0.3091 - val_accuracy: 0.9111\n"
     ]
    }
   ],
   "source": [
    "model.compile(optimizer='sgd',\n",
    "             loss=tf.keras.losses.CategoricalCrossentropy(),\n",
    "             metrics=['accuracy'])\n",
    "\n",
    "history = model.fit(x_train,y_train,epochs=10,validation_data=(x_test,y_test)).history"
   ]
  },
  {
   "cell_type": "code",
   "execution_count": 9,
   "metadata": {},
   "outputs": [
    {
     "data": {
      "image/png": "[encoded data removed]",
      "text/plain": [
       "<Figure size 432x288 with 1 Axes>"
      ]
     },
     "metadata": {
      "needs_background": "light"
     },
     "output_type": "display_data"
    }
   ],
   "source": [
    "# plot testing accuracy\n",
    "plt.plot(history['val_accuracy'],color='r',label='Test Acc');\n",
    "plt.plot(history['accuracy'],color='b',label='Train Acc');\n",
    "plt.legend()\n",
    "plt.title(\"Tensorflow Learning Curve\");\n",
    "plt.ylabel(\"Accuracy\");\n",
    "plt.xlabel(\"Epochs\");"
   ]
  },
  {
   "cell_type": "code",
   "execution_count": null,
   "metadata": {},
   "outputs": [],
   "source": []
  }
 ],
 "metadata": {
  "kernelspec": {
   "display_name": "Python 3",
   "language": "python",
   "name": "python3"
  },
  "language_info": {
   "codemirror_mode": {
    "name": "ipython",
    "version": 3
   },
   "file_extension": ".py",
   "mimetype": "text/x-python",
   "name": "python",
   "nbconvert_exporter": "python",
   "pygments_lexer": "ipython3",
   "version": "3.8.8"
  }
 },
 "nbformat": 4,
 "nbformat_minor": 4
}
